{
 "cells": [
  {
   "cell_type": "code",
   "execution_count": 2,
   "metadata": {},
   "outputs": [],
   "source": [
    "import json\n",
    "import os\n",
    "import sys\n",
    "import requests"
   ]
  },
  {
   "cell_type": "code",
   "execution_count": 3,
   "metadata": {},
   "outputs": [],
   "source": [
    "with open(\"keys.json\") as f:\n",
    "    keys = json.load(f)\n",
    "\n",
    "open_ai_key = keys[\"OPEN_AI_KEY\"]\n",
    "n8n_key = keys[\"N8N_KEY\"]"
   ]
  },
  {
   "cell_type": "code",
   "execution_count": 4,
   "metadata": {},
   "outputs": [
    {
     "data": {
      "text/plain": [
       "'The capital of France is Paris.'"
      ]
     },
     "execution_count": 4,
     "metadata": {},
     "output_type": "execute_result"
    }
   ],
   "source": [
    "from openai import OpenAI\n",
    "\n",
    "def get_response(messages):\n",
    "    client = OpenAI(api_key=open_ai_key)\n",
    "    completion = client.chat.completions.create(model='gpt-4o-mini', messages=messages)\n",
    "    return completion.choices[0].message.content\n",
    "\n",
    "\n",
    "test_messages = [\n",
    "    {\n",
    "        \"role\": \"system\",\n",
    "        \"content\": \"You are a helpful assistant.\"\n",
    "    },\n",
    "    {\n",
    "        \"role\": \"user\",\n",
    "        \"content\": \"What is the capital of France?\"\n",
    "    }\n",
    "]\n",
    "get_response(test_messages)"
   ]
  },
  {
   "cell_type": "code",
   "execution_count": 5,
   "metadata": {},
   "outputs": [],
   "source": [
    "\n",
    "def create_workflow(name, nodes = [], connections = {}):\n",
    "    url = \"https://n8n.squarelight.ai/api/v1\"\n",
    "\n",
    "    workflow = {\n",
    "        \"name\": name,\n",
    "        \"nodes\": nodes,\n",
    "        \"connections\": connections,\n",
    "        \"settings\": {\n",
    "            \"saveExecutionProgress\": True,\n",
    "            \"saveManualExecutions\": True,\n",
    "            \"saveDataErrorExecution\": \"all\",\n",
    "            \"saveDataSuccessExecution\": \"all\",\n",
    "            \"executionTimeout\": 3600,\n",
    "            \"errorWorkflow\": \"VzqKEW0ShTXA5vPj\",\n",
    "            \"timezone\": \"America/New_York\",\n",
    "            \"executionOrder\": \"v1\"\n",
    "        },\n",
    "    }\n",
    "\n",
    "    response = requests.post(f\"{url}/workflows\", headers={\"X-N8N-API-KEY\": n8n_key}, json=workflow)\n",
    "    if response.status_code != 200:\n",
    "        print(response.text)\n",
    "        return None\n",
    "    return response.json()\n",
    "\n",
    "    \n"
   ]
  },
  {
   "cell_type": "code",
   "execution_count": 6,
   "metadata": {},
   "outputs": [
    {
     "name": "stdout",
     "output_type": "stream",
     "text": [
      "T1QXLClNDwOhIe9l\n"
     ]
    }
   ],
   "source": [
    "work_flow = create_workflow(\"Mina is so cool\")\n",
    "print(work_flow['id'])"
   ]
  },
  {
   "cell_type": "code",
   "execution_count": 7,
   "metadata": {},
   "outputs": [
    {
     "data": {
      "text/plain": [
       "'b4kBCGcOZbLKbUcm'"
      ]
     },
     "execution_count": 7,
     "metadata": {},
     "output_type": "execute_result"
    }
   ],
   "source": [
    "work_flow['id']"
   ]
  },
  {
   "cell_type": "code",
   "execution_count": 8,
   "metadata": {},
   "outputs": [],
   "source": [
    "NODE_TYPES = {\n",
    "    \"n8n-nodes-base\":[\n",
    "        \"n8n-nodes-base.manualTrigger\"\n",
    "    ],\n",
    "    \"@n8n/n8n-nodes-langchain\":[\n",
    "        \"@n8n/n8n-nodes-langchain.agent\",\n",
    "        \"@n8n/n8n-nodes-langchain.lmChatOpenAi\"\n",
    "    ]\n",
    "}\n",
    "\n",
    "def create_node(name, position, type, parameters = {}):\n",
    "    \"\"\"\n",
    "    Create a node object\n",
    "\n",
    "    Args:\n",
    "    name (str): The name of the node\n",
    "    position (list): The position of the node on the canvas\n",
    "    type (str): The type of the node\n",
    "    \"\"\"\n",
    "\n",
    "    return {\n",
    "        \"name\": name,\n",
    "        \"type\": type,\n",
    "        \"position\": position,\n",
    "        \"parameters\": parameters\n",
    "    }"
   ]
  },
  {
   "cell_type": "code",
   "execution_count": 9,
   "metadata": {},
   "outputs": [],
   "source": [
    "test_nodes = [\n",
    "    create_node(\"Start\", [0,0], \"n8n-nodes-base.manualTrigger\"),\n",
    "    create_node(\"OpenAI\", [200,0], \"@n8n/n8n-nodes-langchain.agent\"),\n",
    "    create_node(\"OpenAI2\", [200,0], \"@n8n/n8n-nodes-langchain.agent\"),\n",
    "]\n",
    "\n",
    "\n",
    "test_connections = {\n",
    "    \"Start\": {\n",
    "      \"main\": [\n",
    "        [          {\n",
    "            \"node\": \"OpenAI\",\n",
    "            \"type\": \"main\",\n",
    "            \"index\": 0\n",
    "          },\n",
    "                    {\n",
    "            \"node\": \"OpenAI2\",\n",
    "            \"type\": \"main\",\n",
    "            \"index\": 0\n",
    "          }\n",
    "\n",
    "        ]\n",
    "      ]\n",
    "    }\n",
    "  }\n",
    "\n",
    "work_flow = create_workflow(\"Test with adding a node\", test_nodes, test_connections)"
   ]
  },
  {
   "cell_type": "code",
   "execution_count": 17,
   "metadata": {},
   "outputs": [],
   "source": [
    "system_prompt = \"\"\" You are a model created to generate workflow on n8n using their API.\n",
    "This is the following functions and code you have access to\n",
    "\n",
    "```python\n",
    "def create_workflow(name, nodes = [], connections = {})\n",
    "```\n",
    "\n",
    "This function will create a new workflow with the given name, nodes and connections\n",
    "\n",
    "```python\n",
    "create_node(name, position, type, parameters = {})\n",
    "```\n",
    "\n",
    "This function will return a new node with the given name, position (list), type (string) and parameters (dict)\n",
    "\n",
    "Here is an incomplete list of valid node types:\n",
    "```python\n",
    "NODE_TYPES = {\n",
    "    \"n8n-nodes-base\":[\n",
    "        \"n8n-nodes-base.manualTrigger\"\n",
    "    ],\n",
    "    \"@n8n/n8n-nodes-langchain\":[\n",
    "        \"@n8n/n8n-nodes-langchain.agent\",\n",
    "        \"@n8n/n8n-nodes-langchain.lmChatOpenAi\"\n",
    "    ]\n",
    "}\n",
    "```\n",
    "\n",
    "This is just an example of what node types look like and not meant to be exhaustive.\n",
    "\n",
    "The connections object is an ordered map.\n",
    "\n",
    "Here is a simple example of a manual trigger node connected to an OpenAI node\n",
    "\n",
    "```python\n",
    "test_nodes = [\n",
    "    create_node(\"Start\", [0,0], \"n8n-nodes-base.manualTrigger\"),\n",
    "    create_node(\"OpenAI\", [200,0], \"@n8n/n8n-nodes-langchain.agent\"),\n",
    "]\n",
    "\n",
    "\n",
    "test_connections = {\n",
    "    \"Start\": {\n",
    "      \"main\": [\n",
    "        [\n",
    "          {\n",
    "            \"node\": \"OpenAI\",\n",
    "            \"type\": \"main\",\n",
    "            \"index\": 0\n",
    "          }\n",
    "        ]\n",
    "      ]\n",
    "    }\n",
    "  }\n",
    "\n",
    "work_flow = create_workflow(\"Test with adding a node\", test_nodes, test_connections)\n",
    "```\n",
    "\"\"\"\n"
   ]
  },
  {
   "cell_type": "code",
   "execution_count": 18,
   "metadata": {},
   "outputs": [],
   "source": [
    "planning_system = \"\"\"\n",
    "Main task now:\n",
    "Create a detailed plan for how you would make a workflow that does the following:\n",
    "<task>\n",
    "Important things to consider:\n",
    "- triggers: what will start the workflow?\n",
    "- nodes: what nodes will you need?\n",
    "- connections: how will the nodes be connected?\"\"\"\n",
    "\n",
    "excuting_system = \"\"\"\" The following plan was formulated:\n",
    "<plan>\n",
    "Using this plan, return the respective code that would create the workflow. Respond with code only\"\"\""
   ]
  },
  {
   "cell_type": "code",
   "execution_count": 20,
   "metadata": {},
   "outputs": [
    {
     "name": "stdout",
     "output_type": "stream",
     "text": [
      "planning...\n",
      "Creating workflow...\n",
      "```python\n",
      "# Create nodes\n",
      "nodes = [\n",
      "    create_node(\"Comment Trigger\", [0, 0], \"n8n-nodes-base.manualTrigger\"),\n",
      "    create_node(\"Check Comment\", [200, 0], \"@n8n/n8n-nodes-langchain.commentCheckNode\"),  # Assuming a check node exists\n",
      "    create_node(\"Send Reply\", [400, 0], \"@n8n/n8n-nodes-langchain.sendReplyNode\"),  # Assuming a reply node exists\n",
      "]\n",
      "\n",
      "# Define connections\n",
      "connections = {\n",
      "    \"Comment Trigger\": {\n",
      "        \"main\": [\n",
      "            [\n",
      "                {\n",
      "                    \"node\": \"Check Comment\",\n",
      "                    \"type\": \"main\",\n",
      "                    \"index\": 0\n",
      "                }\n",
      "            ]\n",
      "        ]\n",
      "    },\n",
      "    \"Check Comment\": {\n",
      "        \"main\": [\n",
      "            [\n",
      "                {\n",
      "                    \"node\": \"Send Reply\",\n",
      "                    \"type\": \"main\",\n",
      "                    \"index\": 0\n",
      "                }\n",
      "            ]\n",
      "        ]\n",
      "    }\n",
      "}\n",
      "\n",
      "# Create the workflow\n",
      "workflow = create_workflow(\"Comment Reply Workflow\", nodes, connections)\n",
      "```\n"
     ]
    }
   ],
   "source": [
    "task = \"Create an example workflow that checks if someone commented on a post and then replies to them\"\n",
    "\n",
    "messages = [\n",
    "    {\n",
    "        \"role\": \"system\",\n",
    "        \"content\": system_prompt+planning_system.replace(\"<task>\", task)\n",
    "    }\n",
    "]\n",
    "\n",
    "print(\"planning...\")\n",
    "plan = get_response(messages)\n",
    "\n",
    "messages = [\n",
    "    {\n",
    "        \"role\": \"system\",\n",
    "        \"content\": system_prompt+excuting_system.replace(\"<plan>\", plan)\n",
    "    }\n",
    "]\n",
    "print(\"Creating workflow...\")\n",
    "response = get_response(messages)\n",
    "print(response)"
   ]
  },
  {
   "cell_type": "code",
   "execution_count": 25,
   "metadata": {},
   "outputs": [],
   "source": [
    "response = response.replace(\"```python\", \"\")\n",
    "response = response.replace(\"```\", \"\")\n",
    "exec(response)"
   ]
  }
 ],
 "metadata": {
  "kernelspec": {
   "display_name": "base",
   "language": "python",
   "name": "python3"
  },
  "language_info": {
   "codemirror_mode": {
    "name": "ipython",
    "version": 3
   },
   "file_extension": ".py",
   "mimetype": "text/x-python",
   "name": "python",
   "nbconvert_exporter": "python",
   "pygments_lexer": "ipython3",
   "version": "3.13.2"
  }
 },
 "nbformat": 4,
 "nbformat_minor": 2
}
