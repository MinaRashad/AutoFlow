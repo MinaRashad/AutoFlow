{
 "cells": [
  {
   "cell_type": "code",
   "execution_count": 23,
   "metadata": {},
   "outputs": [],
   "source": [
    "import json\n",
    "import os\n",
    "import sys\n",
    "import requests"
   ]
  },
  {
   "cell_type": "code",
   "execution_count": 22,
   "metadata": {},
   "outputs": [],
   "source": [
    "with open(\"keys.json\") as f:\n",
    "    keys = json.load(f)\n",
    "\n",
    "open_ai_key = keys[\"OPEN_AI_KEY\"]\n",
    "n8n_key = keys[\"N8N_KEY\"]"
   ]
  },
  {
   "cell_type": "code",
   "execution_count": 21,
   "metadata": {},
   "outputs": [
    {
     "data": {
      "text/plain": [
       "'The capital of France is Paris.'"
      ]
     },
     "execution_count": 21,
     "metadata": {},
     "output_type": "execute_result"
    }
   ],
   "source": [
    "from openai import OpenAI\n",
    "\n",
    "def get_response(messages):\n",
    "    client = OpenAI(api_key=open_ai_key)\n",
    "    completion = client.chat.completions.create(model='gpt-4o-mini', messages=messages)\n",
    "    return completion.choices[0].message.content\n",
    "\n",
    "\n",
    "test_messages = [\n",
    "    {\n",
    "        \"role\": \"system\",\n",
    "        \"content\": \"You are a helpful assistant.\"\n",
    "    },\n",
    "    {\n",
    "        \"role\": \"user\",\n",
    "        \"content\": \"What is the capital of France?\"\n",
    "    }\n",
    "]\n",
    "get_response(test_messages)"
   ]
  },
  {
   "cell_type": "code",
   "execution_count": 47,
   "metadata": {},
   "outputs": [],
   "source": [
    "\n",
    "def create_workflow(name, nodes = [], connections = {}):\n",
    "    url = \"https://n8n.squarelight.ai/api/v1\"\n",
    "\n",
    "    workflow = {\n",
    "        \"name\": name,\n",
    "        \"nodes\": nodes,\n",
    "        \"connections\": connections,\n",
    "        \"settings\": {\n",
    "            \"saveExecutionProgress\": True,\n",
    "            \"saveManualExecutions\": True,\n",
    "            \"saveDataErrorExecution\": \"all\",\n",
    "            \"saveDataSuccessExecution\": \"all\",\n",
    "            \"executionTimeout\": 3600,\n",
    "            \"errorWorkflow\": \"VzqKEW0ShTXA5vPj\",\n",
    "            \"timezone\": \"America/New_York\",\n",
    "            \"executionOrder\": \"v1\"\n",
    "        },\n",
    "    }\n",
    "\n",
    "    response = requests.post(f\"{url}/workflows\", headers={\"X-N8N-API-KEY\": n8n_key}, json=workflow)\n",
    "    if response.status_code != 200:\n",
    "        print(response.text)\n",
    "        return None\n",
    "    return response.json()\n",
    "\n",
    "    \n"
   ]
  },
  {
   "cell_type": "code",
   "execution_count": 46,
   "metadata": {},
   "outputs": [
    {
     "name": "stdout",
     "output_type": "stream",
     "text": [
      "7ovSU6SsqDiL3VS7\n"
     ]
    }
   ],
   "source": [
    "work_flow = create_workflow(\"Mina is so cool\")\n",
    "print(work_flow['id'])"
   ]
  },
  {
   "cell_type": "code",
   "execution_count": 45,
   "metadata": {},
   "outputs": [
    {
     "data": {
      "text/plain": [
       "'VxLwk2p0vbSvwqhQ'"
      ]
     },
     "execution_count": 45,
     "metadata": {},
     "output_type": "execute_result"
    }
   ],
   "source": [
    "work_flow['id']"
   ]
  },
  {
   "cell_type": "code",
   "execution_count": 49,
   "metadata": {},
   "outputs": [],
   "source": [
    "NODE_TYPES = {\n",
    "    \"n8n-nodes-base\":[\n",
    "        \"n8n-nodes-base.manualTrigger\"\n",
    "    ],\n",
    "    \"@n8n/n8n-nodes-langchain\":[\n",
    "        \"@n8n/n8n-nodes-langchain.agent\",\n",
    "        \"@n8n/n8n-nodes-langchain.lmChatOpenAi\"\n",
    "    ]\n",
    "}\n",
    "\n",
    "def create_node(name, position, type, parameters = {}):\n",
    "    \"\"\"\n",
    "    Create a node object\n",
    "\n",
    "    Args:\n",
    "    name (str): The name of the node\n",
    "    position (list): The position of the node on the canvas\n",
    "    type (str): The type of the node\n",
    "    \"\"\"\n",
    "\n",
    "    return {\n",
    "        \"name\": name,\n",
    "        \"type\": type,\n",
    "        \"position\": position\n",
    "    }"
   ]
  },
  {
   "cell_type": "code",
   "execution_count": 53,
   "metadata": {},
   "outputs": [],
   "source": [
    "test_nodes = [\n",
    "    create_node(\"Start\", [0,0], \"n8n-nodes-base.manualTrigger\"),\n",
    "    create_node(\"OpenAI\", [200,0], \"@n8n/n8n-nodes-langchain.agent\"),\n",
    "]\n",
    "\n",
    "\n",
    "test_connections = {\n",
    "    \"Start\": {\n",
    "      \"main\": [\n",
    "        [\n",
    "          {\n",
    "            \"node\": \"OpenAI\",\n",
    "            \"type\": \"main\",\n",
    "            \"index\": 0\n",
    "          }\n",
    "        ]\n",
    "      ]\n",
    "    }\n",
    "  }\n",
    "\n",
    "work_flow = create_workflow(\"Test with adding a node\", test_nodes, test_connections)"
   ]
  }
 ],
 "metadata": {
  "kernelspec": {
   "display_name": "base",
   "language": "python",
   "name": "python3"
  },
  "language_info": {
   "codemirror_mode": {
    "name": "ipython",
    "version": 3
   },
   "file_extension": ".py",
   "mimetype": "text/x-python",
   "name": "python",
   "nbconvert_exporter": "python",
   "pygments_lexer": "ipython3",
   "version": "3.12.4"
  }
 },
 "nbformat": 4,
 "nbformat_minor": 2
}
